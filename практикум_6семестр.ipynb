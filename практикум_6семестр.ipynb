{
  "nbformat": 4,
  "nbformat_minor": 0,
  "metadata": {
    "colab": {
      "provenance": [],
      "toc_visible": true,
      "authorship_tag": "ABX9TyM2JEQK2P1wLOpGVnL1g5cj",
      "include_colab_link": true
    },
    "kernelspec": {
      "name": "python3",
      "display_name": "Python 3"
    },
    "language_info": {
      "name": "python"
    }
  },
  "cells": [
    {
      "cell_type": "markdown",
      "metadata": {
        "id": "view-in-github",
        "colab_type": "text"
      },
      "source": [
        "<a href=\"https://colab.research.google.com/github/noobmaster-ru/prak6_sem/blob/main/%D0%BF%D1%80%D0%B0%D0%BA%D1%82%D0%B8%D0%BA%D1%83%D0%BC_6%D1%81%D0%B5%D0%BC%D0%B5%D1%81%D1%82%D1%80.ipynb\" target=\"_parent\"><img src=\"https://colab.research.google.com/assets/colab-badge.svg\" alt=\"Open In Colab\"/></a>"
      ]
    },
    {
      "cell_type": "markdown",
      "source": [
        "# Вычисления"
      ],
      "metadata": {
        "id": "wnNDuUcl__iD"
      }
    },
    {
      "cell_type": "code",
      "execution_count": null,
      "metadata": {
        "id": "U4U7qjhN_4tM"
      },
      "outputs": [],
      "source": [
        "import numpy as np\n",
        "import pandas as pd\n",
        "import os\n",
        "import matplotlib.gridspec as gridspec\n",
        "import matplotlib.pyplot as plt\n",
        "from ipywidgets import interact, IntSlider, Play, VBox, HBox, FloatSlider\n",
        "import re\n",
        "import math\n",
        "import plotly.graph_objects as go\n",
        "from IPython.display import display, clear_output\n",
        "import ipywidgets as widgets\n",
        "\n",
        "\n",
        "# удаляем старые данные\n",
        "!rm -rf data_files/data_M*.csv\n",
        "\n",
        "# ==== Константы ====\n",
        "# зафиксировать одну стационарную точку , один шаг eps = 0.5, один шаг step=0.01 и D >= 2*sqrt(M)\n",
        "T0 = 0.0\n",
        "TN = 200.0\n",
        "TIME_STEP = 0.5\n",
        "EPS = 0.5\n",
        "\n",
        "# ==== Класс состояния ====\n",
        "class State:\n",
        "    def __init__(self, y1, y2, y3):\n",
        "        self.y1 = y1\n",
        "        self.y2 = y2\n",
        "        self.y3 = y3\n",
        "\n",
        "    def copy(self):\n",
        "        return State(self.y1, self.y2, self.y3)\n",
        "\n",
        "# ==== Вычисления начальных условий ====\n",
        "def compute_stationary_solutions(M, D, sign_1, sign_2):\n",
        "    y_star = State(0, 0, 0)\n",
        "    discriminant = D**2 * M**2 - 4*M**3 + 3*M**2\n",
        "\n",
        "    try:\n",
        "        inner_sqrt = D*M + sign_2*np.sqrt(discriminant)\n",
        "\n",
        "        if inner_sqrt < 0:\n",
        "            print(f\"Warning: Подкоренное выражение отрицательное: D={D}, M={M}, inner_sqrt={inner_sqrt}\")\n",
        "            inner_sqrt = 0  # Чтобы избежать ошибки, подставляем 0\n",
        "\n",
        "        y_star.y2 = sign_1*np.sqrt(inner_sqrt)\n",
        "\n",
        "        # Защита от деления на ноль\n",
        "        if y_star.y2 == 0:\n",
        "            print(f\"Warning: Деление на ноль при расчете y1: D={D}, M={M}\")\n",
        "            y_star.y1 = 0\n",
        "        else:\n",
        "            y_star.y1 = -M / y_star.y2\n",
        "\n",
        "        # Аналогично защищаем y3\n",
        "        if y_star.y2 == 0:\n",
        "            y_star.y3 = 0\n",
        "        else:\n",
        "            y_star.y3 = D/2 + (M/(y_star.y2**2)) * (1 - M)\n",
        "\n",
        "    except Exception as e:\n",
        "        print(f\"Ошибка при расчете стационарных решений: {e}\")\n",
        "        y_star = State(0, 0, 0)  # Если что-то совсем пошло не так, обнуляем\n",
        "\n",
        "    # y_star.y2 = -np.sqrt(D*M - np.sqrt(D**2 * M**2 - 4*M**3 + 3*M**2))\n",
        "    # y_star.y1 = -M / y_star.y2\n",
        "    # y_star.y3 = D/2 + M/(y_star.y2**2) * (1 - M)\n",
        "    return y_star\n",
        "\n",
        "def compute_beginning_values(vector_y_star):\n",
        "    return State(\n",
        "        vector_y_star.y1 + EPS,\n",
        "        vector_y_star.y2 + EPS,\n",
        "        vector_y_star.y3 + EPS\n",
        "    )\n",
        "\n",
        "# ==== Правая часть системы ====\n",
        "def func(t, y, M, D):\n",
        "    dy = State(0, 0, 0)\n",
        "\n",
        "    dy.y1 = y.y1 - (D / 2.0) * y.y2 + y.y2 * (y.y3 + y.y1**2)\n",
        "    dy.y2 = (D / 2.0) * y.y1 + y.y2 + y.y1 * (3 * y.y3 - y.y1**2)\n",
        "    dy.y3 = -2.0 * y.y3 * (M + y.y1 * y.y2)\n",
        "    return dy\n",
        "\n",
        "# ==== Метод Рунге-Кутты 4-го порядка ====\n",
        "def runge_kutta_4_system(M, D, sign_1, sign_2):\n",
        "    vector_y_star = compute_stationary_solutions(M, D, sign_1, sign_2)\n",
        "    vector_y_0 = compute_beginning_values(vector_y_star)\n",
        "    t = T0\n",
        "    y = vector_y_0\n",
        "    results = []\n",
        "\n",
        "    while (t <= TN + TIME_STEP):\n",
        "        results.append((t, y.copy()))\n",
        "        if (abs(y.y1) > 1e6 or abs(y.y2) > 1e6 or abs(y.y3) > 1e6):\n",
        "          print(f\"Warning: Решение ушло в бесконечность на t={t}\")\n",
        "          break\n",
        "\n",
        "        k1 = func(t, y, M, D)\n",
        "        k2 = func(t + TIME_STEP/2, State(\n",
        "            y.y1 + TIME_STEP/2 * k1.y1,\n",
        "            y.y2 + TIME_STEP/2 * k1.y2,\n",
        "            y.y3 + TIME_STEP/2 * k1.y3\n",
        "        ), M, D)\n",
        "        k3 = func(t + TIME_STEP/2, State(\n",
        "            y.y1 + TIME_STEP/2 * k2.y1,\n",
        "            y.y2 + TIME_STEP/2 * k2.y2,\n",
        "            y.y3 + TIME_STEP/2 * k2.y3\n",
        "        ), M, D)\n",
        "        k4 = func(t + TIME_STEP, State(\n",
        "            y.y1 + TIME_STEP * k3.y1,\n",
        "            y.y2 + TIME_STEP * k3.y2,\n",
        "            y.y3 + TIME_STEP * k3.y3\n",
        "        ), M, D)\n",
        "\n",
        "        y.y1 += TIME_STEP/6 * (k1.y1 + 2*k2.y1 + 2*k3.y1 + k4.y1)\n",
        "        y.y2 += TIME_STEP/6 * (k1.y2 + 2*k2.y2 + 2*k3.y2 + k4.y2)\n",
        "        y.y3 += TIME_STEP/6 * (k1.y3 + 2*k2.y3 + 2*k3.y3 + k4.y3)\n",
        "\n",
        "        t += TIME_STEP\n",
        "\n",
        "    return results"
      ]
    },
    {
      "cell_type": "markdown",
      "source": [
        "# Построение графика"
      ],
      "metadata": {
        "id": "o3hoN_siAC5Z"
      }
    },
    {
      "cell_type": "code",
      "source": [
        "def plot_trajectory(D,M,sign_1,sign_2):\n",
        "\n",
        "  if (D >= np.sqrt(4*M-3)):\n",
        "    results = runge_kutta_4_system(M,D,sign_1,sign_2)\n",
        "    # Строим таблицу\n",
        "    data = {\n",
        "        'Time': [t for t, y in results],\n",
        "        'y1': [y.y1 for t, y in results],\n",
        "        'y2': [y.y2 for t, y in results],\n",
        "        'y3': [y.y3 for t, y in results],\n",
        "    }\n",
        "\n",
        "    df = pd.DataFrame(data)\n",
        "\n",
        "    fig = plt.figure(figsize=(16, 8))\n",
        "    gs = gridspec.GridSpec(3, 2, width_ratios=[2, 1]) # 3 rows ,2 columns\n",
        "    ax = fig.add_subplot(gs[:, 0], projection='3d')\n",
        "    # plt.subplots_adjust(left=0.05, right=0.95, top=0.92, bottom=0.12, hspace=0.4)\n",
        "    # Starting and ending points\n",
        "    start = df.iloc[0]\n",
        "    end = df.iloc[-1]\n",
        "\n",
        "    # Drow the start and end points\n",
        "    ax.scatter([start[\"Time\"]],[start[\"y1\"]], [start[\"y2\"]], [start[\"y3\"]], color=\"green\", s=15, label=\"Begin point\", zorder=5)\n",
        "    ax.scatter([end[\"Time\"]],[end[\"y1\"]], [end[\"y2\"]], [end[\"y3\"]], color=\"red\", s=15, label=\"End point\", zorder=5)\n",
        "\n",
        "\n",
        "    #  --- Projections start point ---\n",
        "    # for y2-y3\n",
        "    ax.plot([start[\"Time\"],end[\"Time\"]],[start[\"y1\"], start[\"y1\"]], [start[\"y2\"], start[\"y2\"]], [end[\"y3\"], start[\"y3\"]], color='green', linestyle='dashed')\n",
        "    ax.scatter([end[\"Time\"]],[start[\"y1\"]], [start[\"y2\"]], [start[\"y3\"]], color=\"green\", s=5, zorder=5)\n",
        "    # for y1-y2\n",
        "    ax.plot([start[\"Time\"],start[\"Time\"]],[start[\"y1\"], start[\"y1\"]], [start[\"y2\"], end[\"y2\"]], [start[\"y3\"], start[\"y3\"]], color='green', linestyle='dashed')\n",
        "    ax.scatter([start[\"Time\"]],[start[\"y1\"]], [end[\"y2\"]], [start[\"y3\"]], color=\"green\", s=5, zorder=5)\n",
        "    # for y1-y3\n",
        "    ax.plot([start[\"Time\"],start[\"Time\"]],[end[\"y1\"], start[\"y1\"]], [start[\"y2\"], start[\"y2\"]], [start[\"y3\"], start[\"y3\"]], color='green', linestyle='dashed')\n",
        "    ax.scatter([start[\"Time\"]],[end[\"y1\"]], [start[\"y2\"]], [start[\"y3\"]], color=\"green\", s=5, zorder=5)\n",
        "\n",
        "    # --- Projections end point ---\n",
        "    # for  y2-y3\n",
        "    ax.plot([end[\"Time\"],start[\"Time\"]],[end[\"y1\"], end[\"y1\"]], [end[\"y2\"], end[\"y2\"]], [start[\"y3\"], end[\"y3\"]], color='red', linestyle='dashed')\n",
        "    ax.scatter([start[\"Time\"]],[end[\"y1\"]], [end[\"y2\"]], [end[\"y3\"]], color=\"red\", s=5, zorder=5)\n",
        "    # for y1-y2\n",
        "    ax.plot([end[\"Time\"],end[\"Time\"]],[end[\"y1\"], end[\"y1\"]], [end[\"y2\"], start[\"y2\"]], [end[\"y3\"], end[\"y3\"]], color='red', linestyle='dashed')\n",
        "    ax.scatter([end[\"Time\"]],[end[\"y1\"]], [start[\"y2\"]], [end[\"y3\"]], color=\"red\", s=5, zorder=5)\n",
        "    # for y1-y3\n",
        "    ax.plot([end[\"Time\"],end[\"Time\"]],[start[\"y1\"], end[\"y1\"]], [end[\"y2\"], end[\"y2\"]], [end[\"y3\"], end[\"y3\"]], color='red', linestyle='dashed')\n",
        "    ax.scatter([end[\"Time\"]],[start[\"y1\"]], [end[\"y2\"]], [end[\"y3\"]], color=\"red\", s=5, zorder=5)\n",
        "\n",
        "\n",
        "    # Make trajectory for y1, y2, y3\n",
        "    ax.plot(df[\"Time\"],df[\"y1\"], df[\"y2\"], df[\"y3\"], label=\"Trajectory\", color=\"blue\",linewidth=1.5)\n",
        "\n",
        "    ax.set_xlabel(\"Y1\", labelpad=10, fontsize=13,fontweight='bold')\n",
        "    ax.set_ylabel(\"Y2\", labelpad=10, fontsize=13,fontweight='bold')\n",
        "    ax.set_zlabel(\"Y3\", labelpad=10, fontsize=13,fontweight='bold')\n",
        "    ax.set_title(\"График решения\", fontsize=20)\n",
        "\n",
        "    # Add legend and grid\n",
        "    ax.legend(loc='best')\n",
        "    ax.view_init(elev=40, azim=140)\n",
        "    ax.grid(True)\n",
        "\n",
        "    handles, labels = ax.get_legend_handles_labels()\n",
        "    unique_labels = dict(zip(labels, handles))\n",
        "    ax.legend(unique_labels.values(), unique_labels.keys())\n",
        "\n",
        "\n",
        "    ax2 = fig.add_subplot(gs[0, 1])\n",
        "    ax2.plot(df[\"Time\"], df[\"y1\"], color='blue')\n",
        "    ax2.set_xlabel(\"Time\",fontsize=13,fontweight='bold')\n",
        "    ax2.set_ylabel(\"y1\".upper(), rotation=0, labelpad=13, fontsize=13,fontweight='bold')\n",
        "    ax2.grid(True)\n",
        "\n",
        "    ax2 = fig.add_subplot(gs[1, 1])\n",
        "    ax2.plot(df[\"Time\"], df[\"y2\"], color='blue')\n",
        "    ax2.set_xlabel(\"Time\",fontsize=13,fontweight='bold')\n",
        "    ax2.set_ylabel(\"y2\".upper(), rotation=0, labelpad=13,fontsize=13,fontweight='bold')\n",
        "    ax2.grid(True)\n",
        "\n",
        "    ax2 = fig.add_subplot(gs[2, 1])\n",
        "    ax2.plot(df[\"Time\"], df[\"y3\"], color='blue')\n",
        "    ax2.set_xlabel(\"Time\",fontsize=13,fontweight='bold')\n",
        "    ax2.set_ylabel(\"y3\".upper(), rotation=0, labelpad=13,fontsize=13,fontweight='bold')\n",
        "    ax2.grid(True)\n",
        "\n",
        "    #  Add text with constants to the left upper corner\n",
        "    formula_str = (\n",
        "        f'$y_2^* = {\"\" if sign_1 == 1 else \"-\"}\\sqrt{{DM {\"+ \" if sign_2 == 1 else \"- \"} \\sqrt{{D^2 M^2 - 4M^3 + 3M^2}}}}$'\n",
        "    )\n",
        "    textstr = '\\n'.join((\n",
        "        r'$D=%s$' % D,\n",
        "        r'$M=%s$' % M,\n",
        "        r'$T_0=%.1f$' % T0,\n",
        "        r'$T_N=%.1f$' % TN,\n",
        "        r'$\\varepsilon=%.1f$' % EPS,\n",
        "        r'$STEP=%.1f$' % TIME_STEP,\n",
        "        formula_str\n",
        "    ))\n",
        "    props = dict(boxstyle='round', facecolor='white', alpha=0.5)\n",
        "\n",
        "    # Настройка отступов\n",
        "    plt.subplots_adjust(left=0.05, right=0.95, top=0.95, bottom=0.1, hspace=0.4)\n",
        "    plt.gcf().text(0.01, 0.8, textstr, fontsize=13, bbox=props)\n",
        "\n",
        "    plt.show()\n",
        "  else:\n",
        "    print(f\"Некоректные данные(D < sqrt(4*M-3)): {D} < sqrt(4*{M}-3)\")"
      ],
      "metadata": {
        "id": "kBrCtshMAFNT"
      },
      "execution_count": null,
      "outputs": []
    },
    {
      "cell_type": "markdown",
      "source": [
        "# Виджет - график по заданным данным"
      ],
      "metadata": {
        "id": "2D_xcYjJdHPy"
      }
    },
    {
      "cell_type": "code",
      "source": [
        "# Слайдеры для\n",
        "D_slider = widgets.FloatSlider( value=1.0, min=1.0, max=100.0, step=0.01, description='D')\n",
        "M_slider = widgets.FloatSlider( value=1.01, min=1.01, max=100.0, step=0.01, description='M')\n",
        "sign_1_slider = widgets.FloatSlider( value=1.00, min=-1.0, max=1.0, step=2.0, description='sign_1')\n",
        "sign_2_slider = widgets.FloatSlider( value=1.00, min=-1.0, max=1.0, step=2.0, description='sign_2')\n",
        "\n",
        "# Кнопка\n",
        "button = widgets.Button(description='Вычислить', button_style='success')\n",
        "# Виджет для вывода текста состояния\n",
        "status = widgets.Label(value='')\n",
        "# Отдельный output-блок для графика\n",
        "output = widgets.Output()\n",
        "# Функция, которая будет вызываться при нажатии на кнопку\n",
        "def on_button_click(b):\n",
        "    D = D_slider.value\n",
        "    M = M_slider.value\n",
        "    sign_1 = sign_1_slider.value\n",
        "    sign_2 = sign_2_slider.value\n",
        "\n",
        "    # Выводим сообщение \"Идет расчет...\"\n",
        "    status.value = 'Идет расчет...'\n",
        "\n",
        "    with output:\n",
        "      clear_output(wait=True)\n",
        "      plot_trajectory(D, M, sign_1, sign_2)\n",
        "    # Обновляем статус\n",
        "    status.value = 'Готово!'\n",
        "\n",
        "# Связываем кнопку с функцией\n",
        "button.on_click(on_button_click)\n",
        "# Выводим всё на экран\n",
        "ui = widgets.VBox([D_slider, M_slider, sign_1_slider, sign_2_slider, button, status, output])\n",
        "display(ui)"
      ],
      "metadata": {
        "id": "jxGegudUAJ4g"
      },
      "execution_count": null,
      "outputs": []
    },
    {
      "cell_type": "markdown",
      "source": [
        "# Значения D, M для перебора\n"
      ],
      "metadata": {
        "id": "gKhlQfT8fBNR"
      }
    },
    {
      "cell_type": "code",
      "source": [
        "D_values = [1.00, 1.01, 1.02, 1.03, 1.04, 1.05, 1.1, 1.15, 1.2, 1.5, 2.0, 5.0, 10.0, 20.0, 50.0, 100.0]\n",
        "M_values = [1.01, 1.02, 1.03, 1.04, 1.05, 1.1, 1.2, 1.5, 2.0, 5.0]"
      ],
      "metadata": {
        "id": "DUXFjNRek2TK"
      },
      "execution_count": null,
      "outputs": []
    },
    {
      "cell_type": "markdown",
      "source": [
        "# $ y_2^* = -\\sqrt{A + \\sqrt{B}}$"
      ],
      "metadata": {
        "id": "7sFIHVekljqC"
      }
    },
    {
      "cell_type": "code",
      "source": [
        "for M in M_values:\n",
        "  for D in D_values:\n",
        "      # print(f'Рисуем график для D = {D}, M = {M}')\n",
        "      plot_trajectory(D, M, -1, +1)\n",
        "      print(\"\\n\")"
      ],
      "metadata": {
        "id": "kNbdCwl7lmv8",
        "collapsed": true
      },
      "execution_count": null,
      "outputs": []
    },
    {
      "cell_type": "markdown",
      "source": [
        "# $y_2^* = \\sqrt{A + \\sqrt{B}}$"
      ],
      "metadata": {
        "id": "q2lenJL4mSzw"
      }
    },
    {
      "cell_type": "code",
      "source": [
        "for M in M_values:\n",
        "  for D in D_values:\n",
        "      print(f'Рисуем график для D = {D}, M = {M}')\n",
        "      plot_trajectory(D, M, +1, +1)"
      ],
      "metadata": {
        "id": "k9jfc5cbmOjG",
        "collapsed": true
      },
      "execution_count": null,
      "outputs": []
    },
    {
      "cell_type": "markdown",
      "source": [
        "# $y_2^* = \\sqrt{A - \\sqrt{B}}$"
      ],
      "metadata": {
        "id": "lA348nFemeog"
      }
    },
    {
      "cell_type": "code",
      "source": [
        "for M in M_values:\n",
        "  for D in D_values:\n",
        "      print(f'Рисуем график для D = {D}, M = {M}')\n",
        "      plot_trajectory(D, M, +1, -1)"
      ],
      "metadata": {
        "id": "ot4HfPYBmh8i"
      },
      "execution_count": null,
      "outputs": []
    },
    {
      "cell_type": "markdown",
      "source": [
        "# $y_2^* = -\\sqrt{A - \\sqrt{B}}$"
      ],
      "metadata": {
        "id": "rGcg1_5im5c9"
      }
    },
    {
      "cell_type": "code",
      "source": [
        "for M in M_values:\n",
        "  for D in D_values:\n",
        "      print(f'Рисуем график для D = {D}, M = {M}')\n",
        "      plot_trajectory(D, M, -1, -1)"
      ],
      "metadata": {
        "id": "7OAM3TJ8m4mf"
      },
      "execution_count": null,
      "outputs": []
    }
  ]
}